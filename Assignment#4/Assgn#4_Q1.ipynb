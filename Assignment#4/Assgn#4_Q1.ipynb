{
 "cells": [
  {
   "cell_type": "code",
   "execution_count": 12,
   "metadata": {},
   "outputs": [
    {
     "name": "stdout",
     "output_type": "stream",
     "text": [
      "first_name : Ali\n",
      "last_name : Okasha\n",
      "age : 25\n",
      "city : Karachi\n",
      "{'first_name': 'Ali', 'last_name': 'Okasha', 'age': 25, 'city': 'Karachi', 'qualifications': 'BSc'}\n",
      "{'first_name': 'Ali', 'last_name': 'Okasha', 'age': 25, 'city': 'Karachi', 'qualifications': 'MSc'}\n",
      "{'first_name': 'Ali', 'last_name': 'Okasha', 'age': 25, 'city': 'Karachi'}\n"
     ]
    }
   ],
   "source": [
    "dict = {\n",
    "        \"first_name\" :\"Ali\",\n",
    "        \"last_name\" : \"Okasha\", \n",
    "        \"age\" : 25,\n",
    "        \"city\" : \"Karachi\",\n",
    "        }\n",
    "\n",
    "for key,value in dict.items() :\n",
    "    print(key + \" : \" + str(value))\n",
    "    \n",
    "dict[\"qualifications\"] = \"BSc\"\n",
    "print(dict)\n",
    "dict[\"qualifications\"] = \"MSc\"\n",
    "print(dict)\n",
    "del dict[\"qualifications\"]\n",
    "print(dict)"
   ]
  },
  {
   "cell_type": "code",
   "execution_count": null,
   "metadata": {},
   "outputs": [],
   "source": []
  }
 ],
 "metadata": {
  "kernelspec": {
   "display_name": "Python 3",
   "language": "python",
   "name": "python3"
  },
  "language_info": {
   "codemirror_mode": {
    "name": "ipython",
    "version": 3
   },
   "file_extension": ".py",
   "mimetype": "text/x-python",
   "name": "python",
   "nbconvert_exporter": "python",
   "pygments_lexer": "ipython3",
   "version": "3.7.4"
  }
 },
 "nbformat": 4,
 "nbformat_minor": 2
}

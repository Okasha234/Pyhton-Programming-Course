{
 "cells": [
  {
   "cell_type": "code",
   "execution_count": 1,
   "metadata": {},
   "outputs": [
    {
     "name": "stdout",
     "output_type": "stream",
     "text": [
      "Enter 'zero' when you're finished\n",
      "Enter your age:25\n",
      "The ticket is $15\n",
      "Enter 'zero' when you're finished\n",
      "Enter your age:11\n",
      "The ticket is $10\n",
      "Enter 'zero' when you're finished\n",
      "Enter your age:0\n"
     ]
    }
   ],
   "source": [
    "while 1 :\n",
    "    print(\"Enter 'zero' when you're finished\")\n",
    "    age = int(input(\"Enter your age:\"))\n",
    "    if age == 0 :\n",
    "        break\n",
    "    elif age <= 3 :\n",
    "        print(\"Your ticket is free!\")\n",
    "    elif age > 3 and age <=12 :  \n",
    "        print(\"The ticket is $10\")\n",
    "    elif age > 12  : \n",
    "        print(\"The ticket is $15\") "
   ]
  },
  {
   "cell_type": "code",
   "execution_count": null,
   "metadata": {},
   "outputs": [],
   "source": []
  }
 ],
 "metadata": {
  "kernelspec": {
   "display_name": "Python 3",
   "language": "python",
   "name": "python3"
  },
  "language_info": {
   "codemirror_mode": {
    "name": "ipython",
    "version": 3
   },
   "file_extension": ".py",
   "mimetype": "text/x-python",
   "name": "python",
   "nbconvert_exporter": "python",
   "pygments_lexer": "ipython3",
   "version": "3.7.4"
  }
 },
 "nbformat": 4,
 "nbformat_minor": 2
}

{
 "cells": [
  {
   "cell_type": "code",
   "execution_count": 4,
   "metadata": {},
   "outputs": [
    {
     "name": "stdout",
     "output_type": "stream",
     "text": [
      "19\n",
      "Please enter your guess: 18\n",
      "Your guess is low\n",
      "Please enter your guess: 20\n",
      "Your guess is high\n",
      "Please enter your guess: 4\n",
      "Your guess is low\n",
      "Sorry! the right answer was 19\n"
     ]
    }
   ],
   "source": [
    "import random\n",
    " \n",
    "num = random.randrange(1, 31)\n",
    "print(num)\n",
    "\n",
    "for x in range(3) : \n",
    "    guess = int(input(\"Please enter your guess: \"))\n",
    " \n",
    "    if guess == num :\n",
    "        print(\"Right Answer!\")\n",
    "        break\n",
    "    elif guess < num :\n",
    "        print(\"Your guess is low\")\n",
    "    else :\n",
    "        print(\"Your guess is high\")\n",
    "\n",
    "if x == 2 :        \n",
    "    print(\"Sorry! the right answer was\",num)  "
   ]
  },
  {
   "cell_type": "code",
   "execution_count": null,
   "metadata": {},
   "outputs": [],
   "source": []
  },
  {
   "cell_type": "code",
   "execution_count": null,
   "metadata": {},
   "outputs": [],
   "source": []
  }
 ],
 "metadata": {
  "kernelspec": {
   "display_name": "Python 3",
   "language": "python",
   "name": "python3"
  },
  "language_info": {
   "codemirror_mode": {
    "name": "ipython",
    "version": 3
   },
   "file_extension": ".py",
   "mimetype": "text/x-python",
   "name": "python",
   "nbconvert_exporter": "python",
   "pygments_lexer": "ipython3",
   "version": "3.7.4"
  }
 },
 "nbformat": 4,
 "nbformat_minor": 2
}

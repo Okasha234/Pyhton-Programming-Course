{
 "cells": [
  {
   "cell_type": "code",
   "execution_count": 10,
   "metadata": {},
   "outputs": [
    {
     "name": "stdout",
     "output_type": "stream",
     "text": [
      "\n",
      "City: newyork\n",
      "info: New York City comprises 5 boroughs sitting where the Hudson River meets the Atlantic Ocean. At its core is Manhattan, a densely populated borough that’s among the world’s major commercial, financial and cultural centers.\n",
      "population: 8.623 million (2017)\n",
      "facts: More than 800 languages are spoken in New York City, making it the most linguistically diverse city in the world. 4 in 10 households speak a language other than English.\n",
      "country: USA\n",
      "\n",
      "City: london\n",
      "info: London, the capital of England and the United Kingdom, is a 21st-century city with history stretching back to Roman times. At its centre stand the imposing Houses of Parliament, the iconic ‘Big Ben’ clock tower and Westminster Abbey, site of British monarch coronations.\n",
      "population: 8.908 million (2018)\n",
      "facts: .London was not always called London. Before settling in on the name ‘London’, it had a series of names – Londonium, Ludenwic, and Ludenburg!\n",
      "country: England\n",
      "\n",
      "City: tokyo\n",
      "info: Tokyo, Japan’s busy capital, mixes the ultramodern and the traditional, from neon-lit skyscrapers to historic temples. The opulent Meiji Shinto Shrine is known for its towering gate and surrounding woods. The Imperial Palace sits amid large public gardens. The city's many museums offer exhibits ranging from classical art (in the Tokyo National Museum) to a reconstructed kabuki theater (in the Edo-Tokyo Museum).\n",
      "population: 9.273 million (2015)\n",
      "facts: Tokyo is the largest metropolitan in the world, hosting over 36 million people spread over 3 prefectures.\n",
      "country: Japan\n"
     ]
    }
   ],
   "source": [
    "cities = {\n",
    "     \n",
    "        \"newyork\" : {\n",
    "                    \"info\" : \"New York City comprises 5 boroughs sitting where the Hudson River meets the Atlantic Ocean. At its core is Manhattan, a densely populated borough that’s among the world’s major commercial, financial and cultural centers.\",\n",
    "                    \"population\" : \"8.623 million (2017)\",\n",
    "                    \"facts\" : \"More than 800 languages are spoken in New York City, making it the most linguistically diverse city in the world. 4 in 10 households speak a language other than English.\",\n",
    "                    \"country\" : \"USA\"\n",
    "                    },\n",
    "    \n",
    "        \"london\" : {\n",
    "                    \"info\" : \"London, the capital of England and the United Kingdom, is a 21st-century city with history stretching back to Roman times. At its centre stand the imposing Houses of Parliament, the iconic ‘Big Ben’ clock tower and Westminster Abbey, site of British monarch coronations.\", \n",
    "                    \"population\" : \"8.908 million (2018)\",\n",
    "                    \"facts\" : \".London was not always called London. Before settling in on the name ‘London’, it had a series of names – Londonium, Ludenwic, and Ludenburg!\",\n",
    "                    \"country\" : \"England\"\n",
    "                    },\n",
    "    \n",
    "        \"tokyo\" : {\n",
    "                    \"info\" : \"Tokyo, Japan’s busy capital, mixes the ultramodern and the traditional, from neon-lit skyscrapers to historic temples. The opulent Meiji Shinto Shrine is known for its towering gate and surrounding woods. The Imperial Palace sits amid large public gardens. The city's many museums offer exhibits ranging from classical art (in the Tokyo National Museum) to a reconstructed kabuki theater (in the Edo-Tokyo Museum).\",\n",
    "                    \"population\" : \"9.273 million (2015)\",\n",
    "                    \"facts\" : \"Tokyo is the largest metropolitan in the world, hosting over 36 million people spread over 3 prefectures.\",\n",
    "                    \"country\" : \"Japan\" \n",
    "                    }\n",
    "    }\n",
    "for city, city_info in cities.items():\n",
    "    print(\"\\nCity:\", city)\n",
    "    \n",
    "    for key in city_info:\n",
    "        print(key + ':', city_info[key])"
   ]
  },
  {
   "cell_type": "code",
   "execution_count": null,
   "metadata": {},
   "outputs": [],
   "source": []
  }
 ],
 "metadata": {
  "kernelspec": {
   "display_name": "Python 3",
   "language": "python",
   "name": "python3"
  },
  "language_info": {
   "codemirror_mode": {
    "name": "ipython",
    "version": 3
   },
   "file_extension": ".py",
   "mimetype": "text/x-python",
   "name": "python",
   "nbconvert_exporter": "python",
   "pygments_lexer": "ipython3",
   "version": "3.7.4"
  }
 },
 "nbformat": 4,
 "nbformat_minor": 2
}

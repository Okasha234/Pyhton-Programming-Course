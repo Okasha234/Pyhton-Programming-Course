{
 "cells": [
  {
   "cell_type": "code",
   "execution_count": 14,
   "metadata": {},
   "outputs": [
    {
     "name": "stdout",
     "output_type": "stream",
     "text": [
      "Model:Honda\n",
      "Colour:white\n",
      "Name:Civic\n",
      "Top_Speed:220\n",
      "Weight(kg):1000\n",
      "\n",
      "\n",
      "Model:Honda\n",
      "Colour:Black\n",
      "Name:Civic\n",
      "Top_Speed:220\n",
      "Weight(kg):1000\n",
      "\n",
      "\n",
      "Model:Toyota\n",
      "Colour:Red\n",
      "Name:Carolla\n",
      "Top_Speed:220\n",
      "Weight(kg):1000\n",
      "\n",
      "\n",
      "Model:Toyota\n",
      "Colour:Silver\n",
      "Name:Prius\n",
      "Top_Speed:220\n",
      "Weight(kg):1000\n",
      "\n",
      "\n",
      "Model:Suzuki\n",
      "Colour:Blue\n",
      "Name:Cultus\n",
      "Top_Speed:220\n",
      "Weight(kg):1000\n",
      "\n",
      "\n"
     ]
    }
   ],
   "source": [
    "class Car():\n",
    "    def __init__(self,model,colour,name,topspeed,weight):\n",
    "        self.model = model\n",
    "        self.colour = colour\n",
    "        self.name = name\n",
    "        self.topspeed = topspeed\n",
    "        self.weight = weight\n",
    "    \n",
    "    def details(self):\n",
    "         print(\"Model:\"+ self.model +\"\\nColour:\"+ self.colour +\"\\nName:\"+ self.name +\"\\nTop_Speed:\"+ self.topspeed +\"\\nWeight(kg):\"+ self.weight +\"\\n\\n\") \n",
    "    def detail(self):\n",
    "        pass\n",
    "    def detail(self):\n",
    "        pass\n",
    "    \n",
    "car1 = Car(\"Honda\",\"white\",\"Civic\",\"220\",\"1000\")\n",
    "car1.details()\n",
    "\n",
    "car2 = Car(\"Honda\",\"Black\",\"Civic\",\"220\",\"1000\")\n",
    "car2.details()\n",
    "\n",
    "car3 = Car(\"Toyota\",\"Red\",\"Carolla\",\"220\",\"1000\")\n",
    "car3.details()\n",
    "    \n",
    "car4 = Car(\"Toyota\",\"Silver\",\"Prius\",\"220\",\"1000\")\n",
    "car4.details()\n",
    "\n",
    "car5 = Car(\"Suzuki\",\"Blue\",\"Cultus\",\"220\",\"1000\")\n",
    "car5.details()\n",
    "    "
   ]
  },
  {
   "cell_type": "code",
   "execution_count": null,
   "metadata": {},
   "outputs": [],
   "source": []
  }
 ],
 "metadata": {
  "kernelspec": {
   "display_name": "Python 3",
   "language": "python",
   "name": "python3"
  },
  "language_info": {
   "codemirror_mode": {
    "name": "ipython",
    "version": 3
   },
   "file_extension": ".py",
   "mimetype": "text/x-python",
   "name": "python",
   "nbconvert_exporter": "python",
   "pygments_lexer": "ipython3",
   "version": "3.7.4"
  }
 },
 "nbformat": 4,
 "nbformat_minor": 2
}

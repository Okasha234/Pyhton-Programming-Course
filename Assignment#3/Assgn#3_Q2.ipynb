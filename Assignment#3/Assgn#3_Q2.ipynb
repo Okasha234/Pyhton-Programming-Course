{
 "cells": [
  {
   "cell_type": "code",
   "execution_count": 10,
   "metadata": {},
   "outputs": [
    {
     "name": "stdout",
     "output_type": "stream",
     "text": [
      "Numeric value exist\n"
     ]
    }
   ],
   "source": [
    "list = [\"Ali\", \"Asad\", \"Faizan\", 5, 'Oki']\n",
    "for i in list : \n",
    "    if type(list[3]) is type(3) :\n",
    "        print(\"Numeric value exist\")  \n",
    "        break\n",
    "    else : \n",
    "        print(\"Not exist\")\n"
   ]
  },
  {
   "cell_type": "code",
   "execution_count": null,
   "metadata": {},
   "outputs": [],
   "source": []
  }
 ],
 "metadata": {
  "kernelspec": {
   "display_name": "Python 3",
   "language": "python",
   "name": "python3"
  },
  "language_info": {
   "codemirror_mode": {
    "name": "ipython",
    "version": 3
   },
   "file_extension": ".py",
   "mimetype": "text/x-python",
   "name": "python",
   "nbconvert_exporter": "python",
   "pygments_lexer": "ipython3",
   "version": "3.7.4"
  }
 },
 "nbformat": 4,
 "nbformat_minor": 2
}

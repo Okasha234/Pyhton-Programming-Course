{
 "cells": [
  {
   "cell_type": "code",
   "execution_count": 6,
   "metadata": {},
   "outputs": [
    {
     "name": "stdout",
     "output_type": "stream",
     "text": [
      "Kindly, enter your obtained marks in each subjects!\n",
      "English:90\n",
      "Urdu:90\n",
      "Mathematics:85\n",
      "Chemistry:75.5\n",
      "Physics:66\n",
      "Total obtained marks:406.5\n",
      "Percentage:81.3\n",
      "A+\n"
     ]
    }
   ],
   "source": [
    "print(\"Kindly, enter your obtained marks in each subjects!\")\n",
    "eng = float (input(\"English:\"))\n",
    "urdu = float (input(\"Urdu:\"))\n",
    "maths = float (input(\"Mathematics:\"))\n",
    "chem = float (input(\"Chemistry:\"))\n",
    "phy = float (input(\"Physics:\"))\n",
    "obtain_marks = (eng+urdu+maths+chem+phy)\n",
    "print(\"Total obtained marks:\"+ str(obtain_marks))\n",
    "\n",
    "per = (obtain_marks/500)*100\n",
    "print(\"Percentage:\"+ str(per)) \n",
    "if per>=80 and per<=100 :\n",
    "    print(\"A+\")\n",
    "elif per>=70 and per<80 :\n",
    "    print(\"A\")    \n",
    "elif per>=60 and per<70 :\n",
    "    print(\"B\")\n",
    "elif per>=50 and per<60 :\n",
    "    print(\"C\")\n",
    "elif per>=40 and per<50 :\n",
    "    print(\"D\")\n",
    "elif per>=33 and per<40 :\n",
    "    print(\"E\")\n",
    "elif per>=0 and per<33 :\n",
    "    print(\"You're Fail\")        \n",
    "else :\n",
    "    print(\"You have an inapproperaite%\")"
   ]
  },
  {
   "cell_type": "code",
   "execution_count": null,
   "metadata": {},
   "outputs": [],
   "source": []
  }
 ],
 "metadata": {
  "kernelspec": {
   "display_name": "Python 3",
   "language": "python",
   "name": "python3"
  },
  "language_info": {
   "codemirror_mode": {
    "name": "ipython",
    "version": 3
   },
   "file_extension": ".py",
   "mimetype": "text/x-python",
   "name": "python",
   "nbconvert_exporter": "python",
   "pygments_lexer": "ipython3",
   "version": "3.7.4"
  }
 },
 "nbformat": 4,
 "nbformat_minor": 2
}

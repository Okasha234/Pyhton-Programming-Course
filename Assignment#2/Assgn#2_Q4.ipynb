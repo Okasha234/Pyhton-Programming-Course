{
 "cells": [
  {
   "cell_type": "code",
   "execution_count": 1,
   "metadata": {},
   "outputs": [
    {
     "name": "stdout",
     "output_type": "stream",
     "text": [
      "resultant sum 11\n"
     ]
    }
   ],
   "source": [
    "list = [\"Ali\", \"Asad\", 1, 3, \"Faizan\", 7]\n",
    "res = 0\n",
    "for item in list: \n",
    "    try: \n",
    "        res+= int(item) \n",
    "    except ValueError: \n",
    "        pass\n",
    "    \n",
    "print(\"resultant sum\", res) "
   ]
  },
  {
   "cell_type": "code",
   "execution_count": null,
   "metadata": {},
   "outputs": [],
   "source": []
  }
 ],
 "metadata": {
  "kernelspec": {
   "display_name": "Python 3",
   "language": "python",
   "name": "python3"
  },
  "language_info": {
   "codemirror_mode": {
    "name": "ipython",
    "version": 3
   },
   "file_extension": ".py",
   "mimetype": "text/x-python",
   "name": "python",
   "nbconvert_exporter": "python",
   "pygments_lexer": "ipython3",
   "version": "3.7.4"
  }
 },
 "nbformat": 4,
 "nbformat_minor": 2
}
